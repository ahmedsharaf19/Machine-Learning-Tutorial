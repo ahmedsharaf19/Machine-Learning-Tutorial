{
 "cells": [
  {
   "cell_type": "markdown",
   "id": "7cd8b449-9edf-4abd-a352-38c1e64e7bb4",
   "metadata": {},
   "source": [
    "<div style = 'background-color: #6482AD; text-align:center; padding: 10px; color:#F5EDED'>\n",
    "    <h1>Naive Bayes Classifier</h1>\n",
    "    <h2><a href = 'https://www.linkedin.com/in/ahmedsharaf9/' style = \"text-decoration: none; color: #F5EDED\">Ahmed Sharaf</a></h2>\n",
    "</div>   </ul>\r\n",
    "</div>"
   ]
  },
  {
   "cell_type": "markdown",
   "id": "b1a7a370-a586-4513-ad72-0ba8919f20fb",
   "metadata": {},
   "source": [
    "<div style = 'background-color: #6482AD; text-align:center; padding: 10px; color:#F5EDED'>\n",
    "    <h2>Import Libraries</h2>\n",
    "</div>"
   ]
  },
  {
   "cell_type": "code",
   "execution_count": 1,
   "id": "627c82e8-26f1-43e8-ba3a-30e83a9ca928",
   "metadata": {},
   "outputs": [],
   "source": [
    "import numpy as np\n",
    "import pandas as pd\n",
    "import matplotlib.pyplot as plt\n",
    "import seaborn as sns\n",
    "import warnings\n",
    "warnings.filterwarnings('ignore')\n",
    "%matplotlib inline"
   ]
  },
  {
   "cell_type": "markdown",
   "id": "34b7764d-969a-4d79-87e4-46633d3f5961",
   "metadata": {},
   "source": [
    "<div style = 'background-color: #6482AD; text-align:center; padding: 10px; color:#F5EDED'>\n",
    "    <h2>Load Data</h2>\n",
    "</div>"
   ]
  },
  {
   "cell_type": "code",
   "execution_count": 3,
   "id": "5e298624-06c4-42e4-a790-6caf7a7d1ead",
   "metadata": {},
   "outputs": [],
   "source": [
    "from sklearn.datasets import load_iris\n",
    "X, y = load_iris(return_X_y=True)"
   ]
  },
  {
   "cell_type": "code",
   "execution_count": 6,
   "id": "7a89eaff-b563-4506-9e27-1efd5a746eaa",
   "metadata": {},
   "outputs": [],
   "source": [
    "from sklearn.model_selection import train_test_split\n",
    "X_train, X_test, y_train, y_test = train_test_split(X, y, test_size = 0.3, random_state=0)"
   ]
  },
  {
   "cell_type": "markdown",
   "id": "30032d4c-0067-49d4-a35c-1fea13bb7e03",
   "metadata": {},
   "source": [
    "<div style = 'background-color: #6482AD; text-align:center; padding: 10px; color:#F5EDED'>\n",
    "    <h2>Gaussian Naive Bayes Model</h2>\n",
    "</div>"
   ]
  },
  {
   "cell_type": "code",
   "execution_count": 8,
   "id": "49def2c1-a2c6-418d-ad35-cf8dfc3459f5",
   "metadata": {},
   "outputs": [
    {
     "name": "stdout",
     "output_type": "stream",
     "text": [
      "Accuracy = 1.0\n",
      "##########\n",
      "Confusion Matrix : \n",
      "[[16  0  0]\n",
      " [ 0 18  0]\n",
      " [ 0  0 11]]\n",
      "##########\n",
      "Report : \n",
      "              precision    recall  f1-score   support\n",
      "\n",
      "           0       1.00      1.00      1.00        16\n",
      "           1       1.00      1.00      1.00        18\n",
      "           2       1.00      1.00      1.00        11\n",
      "\n",
      "    accuracy                           1.00        45\n",
      "   macro avg       1.00      1.00      1.00        45\n",
      "weighted avg       1.00      1.00      1.00        45\n",
      "\n"
     ]
    }
   ],
   "source": [
    "from sklearn.naive_bayes import GaussianNB\n",
    "gaussian_model = GaussianNB()\n",
    "gaussian_model.fit(X_train, y_train)\n",
    "\n",
    "y_pred = gaussian_model.predict(X_test)\n",
    "\n",
    "from sklearn.metrics import accuracy_score, confusion_matrix, classification_report\n",
    "print(f\"Accuracy = {accuracy_score(y_test, y_pred)}\")\n",
    "print('#' * 10)\n",
    "print('Confusion Matrix : ')\n",
    "print(confusion_matrix(y_test, y_pred))\n",
    "print('#' * 10)\n",
    "print('Report : ')\n",
    "print(classification_report(y_test, y_pred))"
   ]
  },
  {
   "cell_type": "markdown",
   "id": "4560af74-521f-4315-9e5c-12274a775d96",
   "metadata": {},
   "source": [
    "<div style = 'background-color: #6482AD; text-align:center; padding: 10px; color:#F5EDED'>\n",
    "    <h2>Try Gaussian, Bernoulli, Multinomial Model</h2>\n",
    "</div>"
   ]
  },
  {
   "cell_type": "code",
   "execution_count": 32,
   "id": "dd2f3329-b237-4c4b-8b21-08594d83429a",
   "metadata": {},
   "outputs": [
    {
     "data": {
      "text/html": [
       "<div>\n",
       "<style scoped>\n",
       "    .dataframe tbody tr th:only-of-type {\n",
       "        vertical-align: middle;\n",
       "    }\n",
       "\n",
       "    .dataframe tbody tr th {\n",
       "        vertical-align: top;\n",
       "    }\n",
       "\n",
       "    .dataframe thead th {\n",
       "        text-align: right;\n",
       "    }\n",
       "</style>\n",
       "<table border=\"1\" class=\"dataframe\">\n",
       "  <thead>\n",
       "    <tr style=\"text-align: right;\">\n",
       "      <th></th>\n",
       "      <th>total_bill</th>\n",
       "      <th>tip</th>\n",
       "      <th>sex</th>\n",
       "      <th>smoker</th>\n",
       "      <th>day</th>\n",
       "      <th>time</th>\n",
       "      <th>size</th>\n",
       "    </tr>\n",
       "  </thead>\n",
       "  <tbody>\n",
       "    <tr>\n",
       "      <th>0</th>\n",
       "      <td>16.99</td>\n",
       "      <td>1.01</td>\n",
       "      <td>Female</td>\n",
       "      <td>No</td>\n",
       "      <td>Sun</td>\n",
       "      <td>Dinner</td>\n",
       "      <td>2</td>\n",
       "    </tr>\n",
       "    <tr>\n",
       "      <th>1</th>\n",
       "      <td>10.34</td>\n",
       "      <td>1.66</td>\n",
       "      <td>Male</td>\n",
       "      <td>No</td>\n",
       "      <td>Sun</td>\n",
       "      <td>Dinner</td>\n",
       "      <td>3</td>\n",
       "    </tr>\n",
       "    <tr>\n",
       "      <th>2</th>\n",
       "      <td>21.01</td>\n",
       "      <td>3.50</td>\n",
       "      <td>Male</td>\n",
       "      <td>No</td>\n",
       "      <td>Sun</td>\n",
       "      <td>Dinner</td>\n",
       "      <td>3</td>\n",
       "    </tr>\n",
       "    <tr>\n",
       "      <th>3</th>\n",
       "      <td>23.68</td>\n",
       "      <td>3.31</td>\n",
       "      <td>Male</td>\n",
       "      <td>No</td>\n",
       "      <td>Sun</td>\n",
       "      <td>Dinner</td>\n",
       "      <td>2</td>\n",
       "    </tr>\n",
       "    <tr>\n",
       "      <th>4</th>\n",
       "      <td>24.59</td>\n",
       "      <td>3.61</td>\n",
       "      <td>Female</td>\n",
       "      <td>No</td>\n",
       "      <td>Sun</td>\n",
       "      <td>Dinner</td>\n",
       "      <td>4</td>\n",
       "    </tr>\n",
       "  </tbody>\n",
       "</table>\n",
       "</div>"
      ],
      "text/plain": [
       "   total_bill   tip     sex smoker  day    time  size\n",
       "0       16.99  1.01  Female     No  Sun  Dinner     2\n",
       "1       10.34  1.66    Male     No  Sun  Dinner     3\n",
       "2       21.01  3.50    Male     No  Sun  Dinner     3\n",
       "3       23.68  3.31    Male     No  Sun  Dinner     2\n",
       "4       24.59  3.61  Female     No  Sun  Dinner     4"
      ]
     },
     "execution_count": 32,
     "metadata": {},
     "output_type": "execute_result"
    }
   ],
   "source": [
    "df = sns.load_dataset('tips')\n",
    "df.head()"
   ]
  },
  {
   "cell_type": "code",
   "execution_count": 33,
   "id": "a8c27e8f-202e-49be-bee2-92ca8709338d",
   "metadata": {},
   "outputs": [],
   "source": [
    "# lets predict smoker\n",
    "X = df[['total_bill', 'tip', 'sex', 'day', 'time', 'size']]\n",
    "y = df['smoker']"
   ]
  },
  {
   "cell_type": "code",
   "execution_count": 34,
   "id": "58b10940-1d8a-49da-ab06-d585fe3fc4c8",
   "metadata": {},
   "outputs": [],
   "source": [
    "X_train, X_test, y_train, y_test = train_test_split(X, y, test_size = 0.25, random_state=0)"
   ]
  },
  {
   "cell_type": "code",
   "execution_count": 35,
   "id": "a30c93e7-cb3d-42ca-a4a4-07a206e59910",
   "metadata": {},
   "outputs": [],
   "source": [
    "# lets apply encoding\n",
    "from sklearn.preprocessing import LabelEncoder, OneHotEncoder\n",
    "for col in ['sex', 'time']:\n",
    "    enc = LabelEncoder()\n",
    "    X_train[col] = enc.fit_transform(X_train[col])\n",
    "    X_test[col] = enc.transform(X_test[col])"
   ]
  },
  {
   "cell_type": "code",
   "execution_count": 36,
   "id": "0f3444a0-fd81-4664-bb18-0f29fcce9e9b",
   "metadata": {},
   "outputs": [],
   "source": [
    "enc = LabelEncoder()\n",
    "y_train = enc.fit_transform(y_train)\n",
    "y_test = enc.transform(y_test)"
   ]
  },
  {
   "cell_type": "code",
   "execution_count": 37,
   "id": "e3f09370-d702-4d34-a62e-34deab762b0d",
   "metadata": {},
   "outputs": [],
   "source": [
    "# lets apply OheEncodeing\n",
    "from sklearn.compose import ColumnTransformer\n",
    "\n",
    "ct = ColumnTransformer(transformers=[('ohe', OneHotEncoder(drop = 'first'), [3])], remainder='passthrough')\n",
    "X_train = ct.fit_transform(X_train)\n",
    "X_test = ct.transform(X_test)"
   ]
  },
  {
   "cell_type": "code",
   "execution_count": 40,
   "id": "7ca79b47-e916-42c9-8307-72814b3d8dae",
   "metadata": {},
   "outputs": [
    {
     "name": "stdout",
     "output_type": "stream",
     "text": [
      "Accuracy = 0.5409836065573771\n",
      "##########\n",
      "Confusion Matrix : \n",
      "[[22 12]\n",
      " [16 11]]\n",
      "##########\n",
      "Report : \n",
      "              precision    recall  f1-score   support\n",
      "\n",
      "           0       0.58      0.65      0.61        34\n",
      "           1       0.48      0.41      0.44        27\n",
      "\n",
      "    accuracy                           0.54        61\n",
      "   macro avg       0.53      0.53      0.53        61\n",
      "weighted avg       0.53      0.54      0.54        61\n",
      "\n"
     ]
    }
   ],
   "source": [
    "# lets try Gaussian Model\n",
    "from sklearn.naive_bayes import GaussianNB\n",
    "gaussian_model = GaussianNB()\n",
    "gaussian_model.fit(X_train, y_train)\n",
    "\n",
    "y_pred = gaussian_model.predict(X_test)\n",
    "\n",
    "from sklearn.metrics import accuracy_score, confusion_matrix, classification_report\n",
    "print(f\"Accuracy = {accuracy_score(y_test, y_pred)}\")\n",
    "print('#' * 10)\n",
    "print('Confusion Matrix : ')\n",
    "print(confusion_matrix(y_test, y_pred))\n",
    "print('#' * 10)\n",
    "print('Report : ')\n",
    "print(classification_report(y_test, y_pred))"
   ]
  },
  {
   "cell_type": "code",
   "execution_count": 38,
   "id": "063bc471-9d8a-4168-8da4-30391d1a598a",
   "metadata": {},
   "outputs": [
    {
     "name": "stdout",
     "output_type": "stream",
     "text": [
      "Accuracy = 0.5245901639344263\n",
      "##########\n",
      "Confusion Matrix : \n",
      "[[23 11]\n",
      " [18  9]]\n",
      "##########\n",
      "Report : \n",
      "              precision    recall  f1-score   support\n",
      "\n",
      "           0       0.56      0.68      0.61        34\n",
      "           1       0.45      0.33      0.38        27\n",
      "\n",
      "    accuracy                           0.52        61\n",
      "   macro avg       0.51      0.50      0.50        61\n",
      "weighted avg       0.51      0.52      0.51        61\n",
      "\n"
     ]
    }
   ],
   "source": [
    "# lets try Bernoulli Model\n",
    "from sklearn.naive_bayes import BernoulliNB\n",
    "bernoulli_model = BernoulliNB()\n",
    "bernoulli_model.fit(X_train, y_train)\n",
    "\n",
    "y_pred = bernoulli_model.predict(X_test)\n",
    "\n",
    "from sklearn.metrics import accuracy_score, confusion_matrix, classification_report\n",
    "print(f\"Accuracy = {accuracy_score(y_test, y_pred)}\")\n",
    "print('#' * 10)\n",
    "print('Confusion Matrix : ')\n",
    "print(confusion_matrix(y_test, y_pred))\n",
    "print('#' * 10)\n",
    "print('Report : ')\n",
    "print(classification_report(y_test, y_pred))"
   ]
  },
  {
   "cell_type": "code",
   "execution_count": 39,
   "id": "cfaa7d0a-c314-45d7-a2fb-184f5e5a44a8",
   "metadata": {},
   "outputs": [
    {
     "name": "stdout",
     "output_type": "stream",
     "text": [
      "Accuracy = 0.5245901639344263\n",
      "##########\n",
      "Confusion Matrix : \n",
      "[[25  9]\n",
      " [20  7]]\n",
      "##########\n",
      "Report : \n",
      "              precision    recall  f1-score   support\n",
      "\n",
      "           0       0.56      0.74      0.63        34\n",
      "           1       0.44      0.26      0.33        27\n",
      "\n",
      "    accuracy                           0.52        61\n",
      "   macro avg       0.50      0.50      0.48        61\n",
      "weighted avg       0.50      0.52      0.50        61\n",
      "\n"
     ]
    }
   ],
   "source": [
    "# lets try multinomial Model\n",
    "from sklearn.naive_bayes import MultinomialNB\n",
    "multinomail_model = MultinomialNB()\n",
    "multinomail_model.fit(X_train, y_train)\n",
    "\n",
    "y_pred = multinomail_model.predict(X_test)\n",
    "\n",
    "from sklearn.metrics import accuracy_score, confusion_matrix, classification_report\n",
    "print(f\"Accuracy = {accuracy_score(y_test, y_pred)}\")\n",
    "print('#' * 10)\n",
    "print('Confusion Matrix : ')\n",
    "print(confusion_matrix(y_test, y_pred))\n",
    "print('#' * 10)\n",
    "print('Report : ')\n",
    "print(classification_report(y_test, y_pred))"
   ]
  },
  {
   "cell_type": "code",
   "execution_count": null,
   "id": "f8ea757b-0633-41d4-a6de-f7f05a044a9a",
   "metadata": {},
   "outputs": [],
   "source": []
  }
 ],
 "metadata": {
  "kernelspec": {
   "display_name": "Python 3 (ipykernel)",
   "language": "python",
   "name": "python3"
  },
  "language_info": {
   "codemirror_mode": {
    "name": "ipython",
    "version": 3
   },
   "file_extension": ".py",
   "mimetype": "text/x-python",
   "name": "python",
   "nbconvert_exporter": "python",
   "pygments_lexer": "ipython3",
   "version": "3.12.4"
  }
 },
 "nbformat": 4,
 "nbformat_minor": 5
}
