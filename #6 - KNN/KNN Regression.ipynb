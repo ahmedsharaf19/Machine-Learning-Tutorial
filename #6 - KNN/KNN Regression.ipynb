{
 "cells": [
  {
   "cell_type": "markdown",
   "id": "7cd8b449-9edf-4abd-a352-38c1e64e7bb4",
   "metadata": {},
   "source": [
    "<div style = 'background-color: #6482AD; text-align:center; padding: 10px; color:#F5EDED'>\n",
    "    <h1>KNN Regression</h1>\n",
    "    <h2><a href = 'https://www.linkedin.com/in/ahmedsharaf9/' style = \"text-decoration: none; color: #F5EDED\">Ahmed Sharaf</a></h2>\n",
    "</div>   </ul>\r\n",
    "</div>"
   ]
  },
  {
   "cell_type": "markdown",
   "id": "b1a7a370-a586-4513-ad72-0ba8919f20fb",
   "metadata": {},
   "source": [
    "<div style = 'background-color: #6482AD; text-align:center; padding: 10px; color:#F5EDED'>\n",
    "    <h2>Import Libraries</h2>\n",
    "</div>"
   ]
  },
  {
   "cell_type": "code",
   "execution_count": 1,
   "id": "627c82e8-26f1-43e8-ba3a-30e83a9ca928",
   "metadata": {},
   "outputs": [],
   "source": [
    "import numpy as np\n",
    "import pandas as pd\n",
    "import matplotlib.pyplot as plt\n",
    "import seaborn as sns\n",
    "import warnings\n",
    "warnings.filterwarnings('ignore')\n",
    "%matplotlib inline"
   ]
  },
  {
   "cell_type": "markdown",
   "id": "34b7764d-969a-4d79-87e4-46633d3f5961",
   "metadata": {},
   "source": [
    "<div style = 'background-color: #6482AD; text-align:center; padding: 10px; color:#F5EDED'>\n",
    "    <h2>Create Data</h2>\n",
    "</div>"
   ]
  },
  {
   "cell_type": "code",
   "execution_count": 4,
   "id": "5e298624-06c4-42e4-a790-6caf7a7d1ead",
   "metadata": {},
   "outputs": [],
   "source": [
    "from sklearn.datasets import make_regression\n",
    "X, y = make_regression(n_samples=1000, n_features=2, noise = 10, random_state=42)"
   ]
  },
  {
   "cell_type": "code",
   "execution_count": 5,
   "id": "7a89eaff-b563-4506-9e27-1efd5a746eaa",
   "metadata": {},
   "outputs": [],
   "source": [
    "from sklearn.model_selection import train_test_split\n",
    "X_train, X_test, y_train, y_test = train_test_split(X, y, test_size = 0.33, random_state=42)"
   ]
  },
  {
   "cell_type": "markdown",
   "id": "30032d4c-0067-49d4-a35c-1fea13bb7e03",
   "metadata": {},
   "source": [
    "<div style = 'background-color: #6482AD; text-align:center; padding: 10px; color:#F5EDED'>\n",
    "    <h2>KNN Model</h2>\n",
    "</div>"
   ]
  },
  {
   "cell_type": "code",
   "execution_count": 7,
   "id": "49def2c1-a2c6-418d-ad35-cf8dfc3459f5",
   "metadata": {},
   "outputs": [
    {
     "name": "stdout",
     "output_type": "stream",
     "text": [
      "MSE = 127.45860414317289\n",
      "RMSE = 11.289756602476995\n",
      "MAE = 9.009462452972217\n",
      "R2-Score = 0.9189275159979495\n"
     ]
    }
   ],
   "source": [
    "from sklearn.neighbors import KNeighborsRegressor\n",
    "knn = KNeighborsRegressor(n_neighbors=6, algorithm='auto')\n",
    "knn.fit(X_train, y_train)\n",
    "\n",
    "y_pred = knn.predict(X_test)\n",
    "from sklearn.metrics import mean_absolute_error, mean_squared_error, r2_score\n",
    "print(f'MSE = {mean_squared_error(y_test, y_pred)}')\n",
    "print(f'RMSE = {np.sqrt(mean_squared_error(y_test, y_pred))}')\n",
    "print(f'MAE = {mean_absolute_error(y_test, y_pred)}')\n",
    "print(f'R2-Score = {r2_score(y_test, y_pred)}')"
   ]
  },
  {
   "cell_type": "markdown",
   "id": "4560af74-521f-4315-9e5c-12274a775d96",
   "metadata": {},
   "source": [
    "<div style = 'background-color: #6482AD; text-align:center; padding: 10px; color:#F5EDED'>\n",
    "    <h2>KNN With HyperParameter Tuning</h2>\n",
    "</div>"
   ]
  },
  {
   "cell_type": "code",
   "execution_count": 10,
   "id": "f8ea757b-0633-41d4-a6de-f7f05a044a9a",
   "metadata": {},
   "outputs": [
    {
     "name": "stdout",
     "output_type": "stream",
     "text": [
      "MSE = 126.00618122744628\n",
      "RMSE = 11.225247490699093\n",
      "MAE = 8.974225915831056\n",
      "R2-Score = 0.9198513573846573\n"
     ]
    }
   ],
   "source": [
    "from sklearn.model_selection import GridSearchCV\n",
    "params = {\n",
    "    'n_neighbors': [1, 2, 3, 4, 5, 6, 7, 8, 9, 10],\n",
    "    'p': [1, 2]\n",
    "}\n",
    "grid_model = GridSearchCV(KNeighborsRegressor(), param_grid=params, cv = 5)\n",
    "grid_model.fit(X_train, y_train)\n",
    "\n",
    "y_pred = grid_model.predict(X_test)\n",
    "from sklearn.metrics import mean_absolute_error, mean_squared_error, r2_score\n",
    "print(f'MSE = {mean_squared_error(y_test, y_pred)}')\n",
    "print(f'RMSE = {np.sqrt(mean_squared_error(y_test, y_pred))}')\n",
    "print(f'MAE = {mean_absolute_error(y_test, y_pred)}')\n",
    "print(f'R2-Score = {r2_score(y_test, y_pred)}')"
   ]
  },
  {
   "cell_type": "code",
   "execution_count": 11,
   "id": "ea799dd1-0516-4435-bdc8-793532152634",
   "metadata": {},
   "outputs": [
    {
     "data": {
      "text/plain": [
       "{'n_neighbors': 8, 'p': 1}"
      ]
     },
     "execution_count": 11,
     "metadata": {},
     "output_type": "execute_result"
    }
   ],
   "source": [
    "grid_model.best_params_"
   ]
  },
  {
   "cell_type": "code",
   "execution_count": null,
   "id": "a6ef300b-4a10-464f-8980-bac176ec1556",
   "metadata": {},
   "outputs": [],
   "source": []
  }
 ],
 "metadata": {
  "kernelspec": {
   "display_name": "Python 3 (ipykernel)",
   "language": "python",
   "name": "python3"
  },
  "language_info": {
   "codemirror_mode": {
    "name": "ipython",
    "version": 3
   },
   "file_extension": ".py",
   "mimetype": "text/x-python",
   "name": "python",
   "nbconvert_exporter": "python",
   "pygments_lexer": "ipython3",
   "version": "3.12.4"
  }
 },
 "nbformat": 4,
 "nbformat_minor": 5
}
