{
 "cells": [
  {
   "cell_type": "code",
   "execution_count": 1,
   "id": "fdf2f258-df32-4a05-b7c2-c32225f4934d",
   "metadata": {},
   "outputs": [],
   "source": [
    "from nltk.stem import PorterStemmer\n",
    "stemming = PorterStemmer()"
   ]
  },
  {
   "cell_type": "code",
   "execution_count": 3,
   "id": "9fecb1ff-f499-4bee-93cc-302b6b9f36a1",
   "metadata": {},
   "outputs": [
    {
     "name": "stdout",
     "output_type": "stream",
     "text": [
      "eating -----> eat\n",
      "eats -----> eat\n",
      "eaten -----> eaten\n",
      "writing -----> write\n",
      "writes -----> write\n",
      "programming -----> program\n",
      "programs -----> program\n",
      "history -----> histori\n",
      "finally -----> final\n",
      "finalized -----> final\n"
     ]
    }
   ],
   "source": [
    "words = ['eating', 'eats', 'eaten', 'writing', 'writes', 'programming', 'programs', 'history', 'finally', 'finalized']\n",
    "for word in words:\n",
    "    print(word + \" -----> \" + stemming.stem(word))"
   ]
  },
  {
   "cell_type": "code",
   "execution_count": 5,
   "id": "c573cf6f-ac49-4778-9206-91bf20ae9fd3",
   "metadata": {},
   "outputs": [
    {
     "data": {
      "text/plain": [
       "'congratul'"
      ]
     },
     "execution_count": 5,
     "metadata": {},
     "output_type": "execute_result"
    }
   ],
   "source": [
    "stemming.stem('congratulation')"
   ]
  },
  {
   "cell_type": "code",
   "execution_count": 7,
   "id": "52a0032d-09e1-4b9d-b766-fec99489d59e",
   "metadata": {},
   "outputs": [
    {
     "data": {
      "text/plain": [
       "'sit'"
      ]
     },
     "execution_count": 7,
     "metadata": {},
     "output_type": "execute_result"
    }
   ],
   "source": [
    "stemming.stem('sitting')"
   ]
  },
  {
   "cell_type": "code",
   "execution_count": 10,
   "id": "2c57cc5b-6b2b-4f6f-96f9-e382307f0703",
   "metadata": {},
   "outputs": [
    {
     "data": {
      "text/plain": [
       "'eat'"
      ]
     },
     "execution_count": 10,
     "metadata": {},
     "output_type": "execute_result"
    }
   ],
   "source": [
    "# RegexpStemmer Class\n",
    "from nltk.stem import RegexpStemmer\n",
    "reg_stemmer = RegexpStemmer(regexp =  'ing$|s$|e&|able$', min = 4)\n",
    "reg_stemmer.stem('eating')"
   ]
  },
  {
   "cell_type": "code",
   "execution_count": 14,
   "id": "827a973c-7c35-46dd-87bc-da2ddfbf8ee5",
   "metadata": {},
   "outputs": [
    {
     "name": "stdout",
     "output_type": "stream",
     "text": [
      "eating -----> eat\n",
      "eats -----> eat\n",
      "eaten -----> eaten\n",
      "writing -----> write\n",
      "writes -----> write\n",
      "programming -----> program\n",
      "programs -----> program\n",
      "history -----> histori\n",
      "finally -----> final\n",
      "finalized -----> final\n"
     ]
    }
   ],
   "source": [
    "# Snowball Stemmer\n",
    "from nltk.stem import SnowballStemmer\n",
    "snow_stemmer = SnowballStemmer(language = 'english')\n",
    "for word in words:\n",
    "    print(word + \" -----> \" + snow_stemmer.stem(word))"
   ]
  },
  {
   "cell_type": "code",
   "execution_count": 15,
   "id": "d26de868-1858-4e1a-b4e6-da12618df563",
   "metadata": {},
   "outputs": [
    {
     "data": {
      "text/plain": [
       "('fairli', 'sportingli')"
      ]
     },
     "execution_count": 15,
     "metadata": {},
     "output_type": "execute_result"
    }
   ],
   "source": [
    "stemming.stem('fairly'), stemming.stem('sportingly')"
   ]
  },
  {
   "cell_type": "code",
   "execution_count": 16,
   "id": "3c21559d-7434-4594-9609-bb3fd979f05e",
   "metadata": {},
   "outputs": [
    {
     "data": {
      "text/plain": [
       "('fair', 'sport')"
      ]
     },
     "execution_count": 16,
     "metadata": {},
     "output_type": "execute_result"
    }
   ],
   "source": [
    "snow_stemmer.stem('fairly'), snow_stemmer.stem('sportingly')"
   ]
  },
  {
   "cell_type": "code",
   "execution_count": null,
   "id": "0e44fabf-c425-4f68-80f7-285ed9e2daa5",
   "metadata": {},
   "outputs": [],
   "source": []
  }
 ],
 "metadata": {
  "kernelspec": {
   "display_name": "Python 3 (ipykernel)",
   "language": "python",
   "name": "python3"
  },
  "language_info": {
   "codemirror_mode": {
    "name": "ipython",
    "version": 3
   },
   "file_extension": ".py",
   "mimetype": "text/x-python",
   "name": "python",
   "nbconvert_exporter": "python",
   "pygments_lexer": "ipython3",
   "version": "3.12.4"
  }
 },
 "nbformat": 4,
 "nbformat_minor": 5
}
