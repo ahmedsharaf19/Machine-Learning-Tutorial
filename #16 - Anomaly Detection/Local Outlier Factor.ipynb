{
 "cells": [
  {
   "cell_type": "markdown",
   "id": "7cd8b449-9edf-4abd-a352-38c1e64e7bb4",
   "metadata": {},
   "source": [
    "<div style = 'background-color: #6482AD; text-align:center; padding: 10px; color:#F5EDED'>\n",
    "    <h1>Local Outlier Factor</h1>\n",
    "    <h2><a href = 'https://www.linkedin.com/in/ahmedsharaf9/' style = \"text-decoration: none; color: #F5EDED\">Ahmed Sharaf</a></h2>\n",
    "</div>   </ul>\r\n",
    "</div>"
   ]
  },
  {
   "cell_type": "markdown",
   "id": "b1a7a370-a586-4513-ad72-0ba8919f20fb",
   "metadata": {},
   "source": [
    "<div style = 'background-color: #6482AD; text-align:center; padding: 10px; color:#F5EDED'>\n",
    "    <h2>Import Libraries</h2>\n",
    "</div>"
   ]
  },
  {
   "cell_type": "code",
   "execution_count": 1,
   "id": "627c82e8-26f1-43e8-ba3a-30e83a9ca928",
   "metadata": {},
   "outputs": [],
   "source": [
    "import numpy as np\n",
    "import pandas as pd\n",
    "import matplotlib.pyplot as plt\n",
    "import seaborn as sns\n",
    "import warnings\n",
    "warnings.filterwarnings('ignore')\n",
    "%matplotlib inline"
   ]
  },
  {
   "cell_type": "markdown",
   "id": "34b7764d-969a-4d79-87e4-46633d3f5961",
   "metadata": {},
   "source": [
    "<div style = 'background-color: #6482AD; text-align:center; padding: 10px; color:#F5EDED'>\n",
    "    <h2>Import Data</h2>\n",
    "</div>"
   ]
  },
  {
   "cell_type": "code",
   "execution_count": null,
   "id": "bb5c2531-3c7a-451f-942c-0213a8c87e4c",
   "metadata": {},
   "outputs": [],
   "source": []
  },
  {
   "cell_type": "markdown",
   "id": "38a2cd76-959e-456d-8b2b-09dc3aa7fe59",
   "metadata": {},
   "source": [
    "<div style = 'background-color: #6482AD; text-align:center; padding: 10px; color:#F5EDED'>\n",
    "    <h2>Build Local Outlier Factor Model</h2>\n",
    "</div>"
   ]
  },
  {
   "cell_type": "code",
   "execution_count": null,
   "id": "bcd51f2f-1a1c-49e1-a70d-73a73cfb382f",
   "metadata": {},
   "outputs": [],
   "source": [
    "from sklearn.neighbors import LocalOutlierFactor"
   ]
  }
 ],
 "metadata": {
  "kernelspec": {
   "display_name": "Python 3 (ipykernel)",
   "language": "python",
   "name": "python3"
  },
  "language_info": {
   "codemirror_mode": {
    "name": "ipython",
    "version": 3
   },
   "file_extension": ".py",
   "mimetype": "text/x-python",
   "name": "python",
   "nbconvert_exporter": "python",
   "pygments_lexer": "ipython3",
   "version": "3.12.4"
  }
 },
 "nbformat": 4,
 "nbformat_minor": 5
}
